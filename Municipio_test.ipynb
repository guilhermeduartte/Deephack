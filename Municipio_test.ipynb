{
 "cells": [
  {
   "cell_type": "code",
   "execution_count": 2,
   "metadata": {},
   "outputs": [],
   "source": [
    "import pandas as pd\n",
    "import seaborn as sns\n",
    "import matplotlib.pyplot as plt\n",
    "import numpy as np\n",
    "\n",
    "\n",
    "sns.set()\n",
    "%matplotlib inline"
   ]
  },
  {
   "cell_type": "code",
   "execution_count": 5,
   "metadata": {},
   "outputs": [],
   "source": [
    "import unidecode\n",
    "\n",
    "def normalizeSentence(sentence):\n",
    "    \n",
    "    temp = sentence.split(' ')\n",
    "    new_sentence = []\n",
    "    for word in temp:\n",
    "        new_sentence.append(normalizeWord(word))\n",
    "    new_sentence = ' '.join(new_sentence)\n",
    "    \n",
    "    return new_sentence\n",
    "\n",
    "def normalizeWord(word):\n",
    "    \n",
    "    # lower case word\n",
    "    word = word.lower()\n",
    "    \n",
    "    # remove accents\n",
    "    word = unidecode.unidecode(word)\n",
    "    \n",
    "    return word\n",
    "\n",
    "def joinSeparetedWord(word):\n",
    "    \n",
    "    # removing aspas\n",
    "    word = word.split('\\'')\n",
    "    word = ''.join(word)\n",
    "    \n",
    "    # separete words from word\n",
    "    word = word.split()\n",
    "    \n",
    "    # join separeted words by '-'\n",
    "    word = '-'.join(word)\n",
    "    \n",
    "    return word"
   ]
  },
  {
   "cell_type": "code",
   "execution_count": 6,
   "metadata": {},
   "outputs": [],
   "source": [
    "def selectByWord(word, sentences):\n",
    "    # select subset of sentences that contains word\n",
    "    # return indexs of sentences\n",
    "    \n",
    "    # normalize word\n",
    "    normalized_word = normalizeWord(word)\n",
    "    \n",
    "    indexs = []\n",
    "    \n",
    "    for i, sentence in enumerate(sentences):\n",
    "        # normalize sentence\n",
    "        normalized_sentence = normalizeSentence(sentence)\n",
    "        \n",
    "        if normalized_word in normalized_sentence:\n",
    "            #print(i, normalized_sentence)\n",
    "            indexs.append(i)\n",
    "    return indexs"
   ]
  },
  {
   "cell_type": "code",
   "execution_count": 7,
   "metadata": {},
   "outputs": [],
   "source": [
    "def selectDfRowsByWord(data, word, column):\n",
    "    '''\n",
    "    Select specific rows that contains especific word in the column\n",
    "    '''\n",
    "    \n",
    "    sentences = np.array(data[column].unique())\n",
    "\n",
    "    # find sentences\n",
    "    idxs = selectByWord(word, sentences)\n",
    "    obj_sentences = sentences[idxs]\n",
    "\n",
    "    servicos = pd.DataFrame()\n",
    "    for sentence in obj_sentences:\n",
    "\n",
    "        # select rows of exemplo\n",
    "        temp = data[data[column] == sentence]\n",
    "\n",
    "        # concatenate\n",
    "        servicos = pd.concat([servicos, temp])\n",
    "    try:\n",
    "        temp = len(servicos[column].unique())\n",
    "    except:\n",
    "        print(word + ': Not found')\n",
    "    \n",
    "    return servicos.copy()"
   ]
  },
  {
   "cell_type": "code",
   "execution_count": 8,
   "metadata": {},
   "outputs": [],
   "source": [
    "class Municipio:\n",
    "    '''\n",
    "    \n",
    "    Município\n",
    "    \n",
    "    '''\n",
    "    \n",
    "    def __init__(self, name, years = [2018]):\n",
    "        \n",
    "        self.keep_columns_ = ['ano_exercicio', 'mes_ref_extenso', 'tp_despesa', 'vl_despesa',\n",
    "                              'ds_funcao_governo', 'ds_subfuncao_governo', 'ds_programa', 'ds_acao']\n",
    "        self.numeric_columns_ = ['ano_exercicio', 'vl_despesa']\n",
    "        \n",
    "        self.years_ = years\n",
    "        self.name_ = name\n",
    "        self.df_ = pd.DataFrame()\n",
    "        self.population_ = None\n",
    "        print('Reading data...')\n",
    "        self.readData()\n",
    "        print('Preparing data...')\n",
    "        self.prepareData()\n",
    "        print('\\nBase for {} is ready!!'.format(self.name_))\n",
    "        \n",
    "    def readData(self):\n",
    "        \n",
    "        print('> reading population...')\n",
    "        # reading population\n",
    "        \n",
    "        municipios_base = pd.read_csv('datasets/municipios.csv')\n",
    "        municipios = municipios_base['Município'].values\n",
    "        for i, municipio in enumerate(municipios):\n",
    "            if normalizeWord(self.name_) == normalizeWord(municipio):\n",
    "                self.population_ = municipios_base['Estimativa 2019'].values[i]\n",
    "        if self.population_ is None:\n",
    "            print('Erro: population not found')\n",
    "            return\n",
    "        \n",
    "        print('> reading despesas...')\n",
    "        # reading despesas\n",
    "        \n",
    "        for year in self.years_:\n",
    "            print('>> year: '+str(year))\n",
    "            temp = pd.read_csv('datasets/despesas/'+ str(year) +'/despesas-' + self.name_ + '-'+str(year)+'.csv', sep = ';',  encoding = \"ISO-8859-1\")\n",
    "            temp = temp[self.keep_columns_]\n",
    "            self.df_ = pd.concat([self.df_, temp]).reset_index(drop = True)\n",
    "\n",
    "        del temp\n",
    "        \n",
    "    def prepareData(self):\n",
    "        \n",
    "        # string para float\n",
    "        self.df_['vl_despesa'] = self.df_.vl_despesa.apply(lambda x : float('.'.join(x.split(','))))\n",
    "        \n",
    "        # normalizando nome dos meses\n",
    "        for column in self.df_.columns:\n",
    "            if column in self.numeric_columns_:\n",
    "                 continue\n",
    "            self.df_[column] = self.df_[column].apply(lambda x : normalizeWord(x))\n",
    "        \n",
    "        self.df_['vl_despesa_per_capita'] = self.df_['vl_despesa'].apply(lambda x : x/self.population_)\n",
    "        \n",
    "        # ajsutando nomes com . no meio\n",
    "        for column in ['ds_programa', 'ds_acao']:\n",
    "            self.df_[column] = self.df_[column].apply(lambda x : ''.join(x.split('.')))\n",
    "        \n",
    "        \n",
    "    \n"
   ]
  },
  {
   "cell_type": "code",
   "execution_count": 10,
   "metadata": {},
   "outputs": [
    {
     "name": "stdout",
     "output_type": "stream",
     "text": [
      "Reading data...\n",
      "> reading population...\n",
      "> reading despesas...\n",
      ">> year: 2014\n"
     ]
    },
    {
     "ename": "FileNotFoundError",
     "evalue": "[Errno 2] File b'datasets/despesas/2014/despesas-guarulhos-2014.csv' does not exist: b'datasets/despesas/2014/despesas-guarulhos-2014.csv'",
     "output_type": "error",
     "traceback": [
      "\u001b[0;31m---------------------------------------------------------------------------\u001b[0m",
      "\u001b[0;31mFileNotFoundError\u001b[0m                         Traceback (most recent call last)",
      "\u001b[0;32m<ipython-input-10-95019bb48e89>\u001b[0m in \u001b[0;36m<module>\u001b[0;34m\u001b[0m\n\u001b[0;32m----> 1\u001b[0;31m \u001b[0mguarulhos\u001b[0m \u001b[0;34m=\u001b[0m \u001b[0mMunicipio\u001b[0m\u001b[0;34m(\u001b[0m\u001b[0;34m'guarulhos'\u001b[0m\u001b[0;34m,\u001b[0m \u001b[0myears\u001b[0m \u001b[0;34m=\u001b[0m \u001b[0;34m[\u001b[0m\u001b[0;36m2014\u001b[0m\u001b[0;34m,\u001b[0m \u001b[0;36m2019\u001b[0m\u001b[0;34m]\u001b[0m\u001b[0;34m)\u001b[0m\u001b[0;34m\u001b[0m\u001b[0;34m\u001b[0m\u001b[0m\n\u001b[0m",
      "\u001b[0;32m<ipython-input-8-37b2591b02a9>\u001b[0m in \u001b[0;36m__init__\u001b[0;34m(self, name, years)\u001b[0m\n\u001b[1;32m     17\u001b[0m         \u001b[0mself\u001b[0m\u001b[0;34m.\u001b[0m\u001b[0mpopulation_\u001b[0m \u001b[0;34m=\u001b[0m \u001b[0;32mNone\u001b[0m\u001b[0;34m\u001b[0m\u001b[0;34m\u001b[0m\u001b[0m\n\u001b[1;32m     18\u001b[0m         \u001b[0mprint\u001b[0m\u001b[0;34m(\u001b[0m\u001b[0;34m'Reading data...'\u001b[0m\u001b[0;34m)\u001b[0m\u001b[0;34m\u001b[0m\u001b[0;34m\u001b[0m\u001b[0m\n\u001b[0;32m---> 19\u001b[0;31m         \u001b[0mself\u001b[0m\u001b[0;34m.\u001b[0m\u001b[0mreadData\u001b[0m\u001b[0;34m(\u001b[0m\u001b[0;34m)\u001b[0m\u001b[0;34m\u001b[0m\u001b[0;34m\u001b[0m\u001b[0m\n\u001b[0m\u001b[1;32m     20\u001b[0m         \u001b[0mprint\u001b[0m\u001b[0;34m(\u001b[0m\u001b[0;34m'Preparing data...'\u001b[0m\u001b[0;34m)\u001b[0m\u001b[0;34m\u001b[0m\u001b[0;34m\u001b[0m\u001b[0m\n\u001b[1;32m     21\u001b[0m         \u001b[0mself\u001b[0m\u001b[0;34m.\u001b[0m\u001b[0mprepareData\u001b[0m\u001b[0;34m(\u001b[0m\u001b[0;34m)\u001b[0m\u001b[0;34m\u001b[0m\u001b[0;34m\u001b[0m\u001b[0m\n",
      "\u001b[0;32m<ipython-input-8-37b2591b02a9>\u001b[0m in \u001b[0;36mreadData\u001b[0;34m(self)\u001b[0m\n\u001b[1;32m     41\u001b[0m         \u001b[0;32mfor\u001b[0m \u001b[0myear\u001b[0m \u001b[0;32min\u001b[0m \u001b[0mself\u001b[0m\u001b[0;34m.\u001b[0m\u001b[0myears_\u001b[0m\u001b[0;34m:\u001b[0m\u001b[0;34m\u001b[0m\u001b[0;34m\u001b[0m\u001b[0m\n\u001b[1;32m     42\u001b[0m             \u001b[0mprint\u001b[0m\u001b[0;34m(\u001b[0m\u001b[0;34m'>> year: '\u001b[0m\u001b[0;34m+\u001b[0m\u001b[0mstr\u001b[0m\u001b[0;34m(\u001b[0m\u001b[0myear\u001b[0m\u001b[0;34m)\u001b[0m\u001b[0;34m)\u001b[0m\u001b[0;34m\u001b[0m\u001b[0;34m\u001b[0m\u001b[0m\n\u001b[0;32m---> 43\u001b[0;31m             \u001b[0mtemp\u001b[0m \u001b[0;34m=\u001b[0m \u001b[0mpd\u001b[0m\u001b[0;34m.\u001b[0m\u001b[0mread_csv\u001b[0m\u001b[0;34m(\u001b[0m\u001b[0;34m'datasets/despesas/'\u001b[0m\u001b[0;34m+\u001b[0m \u001b[0mstr\u001b[0m\u001b[0;34m(\u001b[0m\u001b[0myear\u001b[0m\u001b[0;34m)\u001b[0m \u001b[0;34m+\u001b[0m\u001b[0;34m'/despesas-'\u001b[0m \u001b[0;34m+\u001b[0m \u001b[0mself\u001b[0m\u001b[0;34m.\u001b[0m\u001b[0mname_\u001b[0m \u001b[0;34m+\u001b[0m \u001b[0;34m'-'\u001b[0m\u001b[0;34m+\u001b[0m\u001b[0mstr\u001b[0m\u001b[0;34m(\u001b[0m\u001b[0myear\u001b[0m\u001b[0;34m)\u001b[0m\u001b[0;34m+\u001b[0m\u001b[0;34m'.csv'\u001b[0m\u001b[0;34m,\u001b[0m \u001b[0msep\u001b[0m \u001b[0;34m=\u001b[0m \u001b[0;34m';'\u001b[0m\u001b[0;34m,\u001b[0m  \u001b[0mencoding\u001b[0m \u001b[0;34m=\u001b[0m \u001b[0;34m\"ISO-8859-1\"\u001b[0m\u001b[0;34m)\u001b[0m\u001b[0;34m\u001b[0m\u001b[0;34m\u001b[0m\u001b[0m\n\u001b[0m\u001b[1;32m     44\u001b[0m             \u001b[0mtemp\u001b[0m \u001b[0;34m=\u001b[0m \u001b[0mtemp\u001b[0m\u001b[0;34m[\u001b[0m\u001b[0mself\u001b[0m\u001b[0;34m.\u001b[0m\u001b[0mkeep_columns_\u001b[0m\u001b[0;34m]\u001b[0m\u001b[0;34m\u001b[0m\u001b[0;34m\u001b[0m\u001b[0m\n\u001b[1;32m     45\u001b[0m             \u001b[0mself\u001b[0m\u001b[0;34m.\u001b[0m\u001b[0mdf_\u001b[0m \u001b[0;34m=\u001b[0m \u001b[0mpd\u001b[0m\u001b[0;34m.\u001b[0m\u001b[0mconcat\u001b[0m\u001b[0;34m(\u001b[0m\u001b[0;34m[\u001b[0m\u001b[0mself\u001b[0m\u001b[0;34m.\u001b[0m\u001b[0mdf_\u001b[0m\u001b[0;34m,\u001b[0m \u001b[0mtemp\u001b[0m\u001b[0;34m]\u001b[0m\u001b[0;34m)\u001b[0m\u001b[0;34m.\u001b[0m\u001b[0mreset_index\u001b[0m\u001b[0;34m(\u001b[0m\u001b[0mdrop\u001b[0m \u001b[0;34m=\u001b[0m \u001b[0;32mTrue\u001b[0m\u001b[0;34m)\u001b[0m\u001b[0;34m\u001b[0m\u001b[0;34m\u001b[0m\u001b[0m\n",
      "\u001b[0;32m~/anaconda3/lib/python3.7/site-packages/pandas/io/parsers.py\u001b[0m in \u001b[0;36mparser_f\u001b[0;34m(filepath_or_buffer, sep, delimiter, header, names, index_col, usecols, squeeze, prefix, mangle_dupe_cols, dtype, engine, converters, true_values, false_values, skipinitialspace, skiprows, skipfooter, nrows, na_values, keep_default_na, na_filter, verbose, skip_blank_lines, parse_dates, infer_datetime_format, keep_date_col, date_parser, dayfirst, iterator, chunksize, compression, thousands, decimal, lineterminator, quotechar, quoting, doublequote, escapechar, comment, encoding, dialect, tupleize_cols, error_bad_lines, warn_bad_lines, delim_whitespace, low_memory, memory_map, float_precision)\u001b[0m\n\u001b[1;32m    700\u001b[0m                     skip_blank_lines=skip_blank_lines)\n\u001b[1;32m    701\u001b[0m \u001b[0;34m\u001b[0m\u001b[0m\n\u001b[0;32m--> 702\u001b[0;31m         \u001b[0;32mreturn\u001b[0m \u001b[0m_read\u001b[0m\u001b[0;34m(\u001b[0m\u001b[0mfilepath_or_buffer\u001b[0m\u001b[0;34m,\u001b[0m \u001b[0mkwds\u001b[0m\u001b[0;34m)\u001b[0m\u001b[0;34m\u001b[0m\u001b[0;34m\u001b[0m\u001b[0m\n\u001b[0m\u001b[1;32m    703\u001b[0m \u001b[0;34m\u001b[0m\u001b[0m\n\u001b[1;32m    704\u001b[0m     \u001b[0mparser_f\u001b[0m\u001b[0;34m.\u001b[0m\u001b[0m__name__\u001b[0m \u001b[0;34m=\u001b[0m \u001b[0mname\u001b[0m\u001b[0;34m\u001b[0m\u001b[0;34m\u001b[0m\u001b[0m\n",
      "\u001b[0;32m~/anaconda3/lib/python3.7/site-packages/pandas/io/parsers.py\u001b[0m in \u001b[0;36m_read\u001b[0;34m(filepath_or_buffer, kwds)\u001b[0m\n\u001b[1;32m    427\u001b[0m \u001b[0;34m\u001b[0m\u001b[0m\n\u001b[1;32m    428\u001b[0m     \u001b[0;31m# Create the parser.\u001b[0m\u001b[0;34m\u001b[0m\u001b[0;34m\u001b[0m\u001b[0;34m\u001b[0m\u001b[0m\n\u001b[0;32m--> 429\u001b[0;31m     \u001b[0mparser\u001b[0m \u001b[0;34m=\u001b[0m \u001b[0mTextFileReader\u001b[0m\u001b[0;34m(\u001b[0m\u001b[0mfilepath_or_buffer\u001b[0m\u001b[0;34m,\u001b[0m \u001b[0;34m**\u001b[0m\u001b[0mkwds\u001b[0m\u001b[0;34m)\u001b[0m\u001b[0;34m\u001b[0m\u001b[0;34m\u001b[0m\u001b[0m\n\u001b[0m\u001b[1;32m    430\u001b[0m \u001b[0;34m\u001b[0m\u001b[0m\n\u001b[1;32m    431\u001b[0m     \u001b[0;32mif\u001b[0m \u001b[0mchunksize\u001b[0m \u001b[0;32mor\u001b[0m \u001b[0miterator\u001b[0m\u001b[0;34m:\u001b[0m\u001b[0;34m\u001b[0m\u001b[0;34m\u001b[0m\u001b[0m\n",
      "\u001b[0;32m~/anaconda3/lib/python3.7/site-packages/pandas/io/parsers.py\u001b[0m in \u001b[0;36m__init__\u001b[0;34m(self, f, engine, **kwds)\u001b[0m\n\u001b[1;32m    893\u001b[0m             \u001b[0mself\u001b[0m\u001b[0;34m.\u001b[0m\u001b[0moptions\u001b[0m\u001b[0;34m[\u001b[0m\u001b[0;34m'has_index_names'\u001b[0m\u001b[0;34m]\u001b[0m \u001b[0;34m=\u001b[0m \u001b[0mkwds\u001b[0m\u001b[0;34m[\u001b[0m\u001b[0;34m'has_index_names'\u001b[0m\u001b[0;34m]\u001b[0m\u001b[0;34m\u001b[0m\u001b[0;34m\u001b[0m\u001b[0m\n\u001b[1;32m    894\u001b[0m \u001b[0;34m\u001b[0m\u001b[0m\n\u001b[0;32m--> 895\u001b[0;31m         \u001b[0mself\u001b[0m\u001b[0;34m.\u001b[0m\u001b[0m_make_engine\u001b[0m\u001b[0;34m(\u001b[0m\u001b[0mself\u001b[0m\u001b[0;34m.\u001b[0m\u001b[0mengine\u001b[0m\u001b[0;34m)\u001b[0m\u001b[0;34m\u001b[0m\u001b[0;34m\u001b[0m\u001b[0m\n\u001b[0m\u001b[1;32m    896\u001b[0m \u001b[0;34m\u001b[0m\u001b[0m\n\u001b[1;32m    897\u001b[0m     \u001b[0;32mdef\u001b[0m \u001b[0mclose\u001b[0m\u001b[0;34m(\u001b[0m\u001b[0mself\u001b[0m\u001b[0;34m)\u001b[0m\u001b[0;34m:\u001b[0m\u001b[0;34m\u001b[0m\u001b[0;34m\u001b[0m\u001b[0m\n",
      "\u001b[0;32m~/anaconda3/lib/python3.7/site-packages/pandas/io/parsers.py\u001b[0m in \u001b[0;36m_make_engine\u001b[0;34m(self, engine)\u001b[0m\n\u001b[1;32m   1120\u001b[0m     \u001b[0;32mdef\u001b[0m \u001b[0m_make_engine\u001b[0m\u001b[0;34m(\u001b[0m\u001b[0mself\u001b[0m\u001b[0;34m,\u001b[0m \u001b[0mengine\u001b[0m\u001b[0;34m=\u001b[0m\u001b[0;34m'c'\u001b[0m\u001b[0;34m)\u001b[0m\u001b[0;34m:\u001b[0m\u001b[0;34m\u001b[0m\u001b[0;34m\u001b[0m\u001b[0m\n\u001b[1;32m   1121\u001b[0m         \u001b[0;32mif\u001b[0m \u001b[0mengine\u001b[0m \u001b[0;34m==\u001b[0m \u001b[0;34m'c'\u001b[0m\u001b[0;34m:\u001b[0m\u001b[0;34m\u001b[0m\u001b[0;34m\u001b[0m\u001b[0m\n\u001b[0;32m-> 1122\u001b[0;31m             \u001b[0mself\u001b[0m\u001b[0;34m.\u001b[0m\u001b[0m_engine\u001b[0m \u001b[0;34m=\u001b[0m \u001b[0mCParserWrapper\u001b[0m\u001b[0;34m(\u001b[0m\u001b[0mself\u001b[0m\u001b[0;34m.\u001b[0m\u001b[0mf\u001b[0m\u001b[0;34m,\u001b[0m \u001b[0;34m**\u001b[0m\u001b[0mself\u001b[0m\u001b[0;34m.\u001b[0m\u001b[0moptions\u001b[0m\u001b[0;34m)\u001b[0m\u001b[0;34m\u001b[0m\u001b[0;34m\u001b[0m\u001b[0m\n\u001b[0m\u001b[1;32m   1123\u001b[0m         \u001b[0;32melse\u001b[0m\u001b[0;34m:\u001b[0m\u001b[0;34m\u001b[0m\u001b[0;34m\u001b[0m\u001b[0m\n\u001b[1;32m   1124\u001b[0m             \u001b[0;32mif\u001b[0m \u001b[0mengine\u001b[0m \u001b[0;34m==\u001b[0m \u001b[0;34m'python'\u001b[0m\u001b[0;34m:\u001b[0m\u001b[0;34m\u001b[0m\u001b[0;34m\u001b[0m\u001b[0m\n",
      "\u001b[0;32m~/anaconda3/lib/python3.7/site-packages/pandas/io/parsers.py\u001b[0m in \u001b[0;36m__init__\u001b[0;34m(self, src, **kwds)\u001b[0m\n\u001b[1;32m   1851\u001b[0m         \u001b[0mkwds\u001b[0m\u001b[0;34m[\u001b[0m\u001b[0;34m'usecols'\u001b[0m\u001b[0;34m]\u001b[0m \u001b[0;34m=\u001b[0m \u001b[0mself\u001b[0m\u001b[0;34m.\u001b[0m\u001b[0musecols\u001b[0m\u001b[0;34m\u001b[0m\u001b[0;34m\u001b[0m\u001b[0m\n\u001b[1;32m   1852\u001b[0m \u001b[0;34m\u001b[0m\u001b[0m\n\u001b[0;32m-> 1853\u001b[0;31m         \u001b[0mself\u001b[0m\u001b[0;34m.\u001b[0m\u001b[0m_reader\u001b[0m \u001b[0;34m=\u001b[0m \u001b[0mparsers\u001b[0m\u001b[0;34m.\u001b[0m\u001b[0mTextReader\u001b[0m\u001b[0;34m(\u001b[0m\u001b[0msrc\u001b[0m\u001b[0;34m,\u001b[0m \u001b[0;34m**\u001b[0m\u001b[0mkwds\u001b[0m\u001b[0;34m)\u001b[0m\u001b[0;34m\u001b[0m\u001b[0;34m\u001b[0m\u001b[0m\n\u001b[0m\u001b[1;32m   1854\u001b[0m         \u001b[0mself\u001b[0m\u001b[0;34m.\u001b[0m\u001b[0munnamed_cols\u001b[0m \u001b[0;34m=\u001b[0m \u001b[0mself\u001b[0m\u001b[0;34m.\u001b[0m\u001b[0m_reader\u001b[0m\u001b[0;34m.\u001b[0m\u001b[0munnamed_cols\u001b[0m\u001b[0;34m\u001b[0m\u001b[0;34m\u001b[0m\u001b[0m\n\u001b[1;32m   1855\u001b[0m \u001b[0;34m\u001b[0m\u001b[0m\n",
      "\u001b[0;32mpandas/_libs/parsers.pyx\u001b[0m in \u001b[0;36mpandas._libs.parsers.TextReader.__cinit__\u001b[0;34m()\u001b[0m\n",
      "\u001b[0;32mpandas/_libs/parsers.pyx\u001b[0m in \u001b[0;36mpandas._libs.parsers.TextReader._setup_parser_source\u001b[0;34m()\u001b[0m\n",
      "\u001b[0;31mFileNotFoundError\u001b[0m: [Errno 2] File b'datasets/despesas/2014/despesas-guarulhos-2014.csv' does not exist: b'datasets/despesas/2014/despesas-guarulhos-2014.csv'"
     ]
    }
   ],
   "source": [
    "guarulhos = Municipio('guarulhos', years = [2014, 2019])"
   ]
  },
  {
   "cell_type": "code",
   "execution_count": 59,
   "metadata": {},
   "outputs": [
    {
     "data": {
      "text/plain": [
       "1379182"
      ]
     },
     "execution_count": 59,
     "metadata": {},
     "output_type": "execute_result"
    }
   ],
   "source": [
    "exemplo.population_"
   ]
  },
  {
   "cell_type": "code",
   "execution_count": 60,
   "metadata": {},
   "outputs": [],
   "source": [
    "test = exemplo.df_.copy()"
   ]
  },
  {
   "cell_type": "code",
   "execution_count": 61,
   "metadata": {},
   "outputs": [
    {
     "data": {
      "text/plain": [
       "array(['empenhado', 'reforco', 'anulacao', 'valor pago',\n",
       "       'valor liquidado'], dtype=object)"
      ]
     },
     "execution_count": 61,
     "metadata": {},
     "output_type": "execute_result"
    }
   ],
   "source": [
    "test['tp_despesa'].unique()"
   ]
  },
  {
   "cell_type": "code",
   "execution_count": 62,
   "metadata": {},
   "outputs": [],
   "source": [
    "# ds_funcao_governo\n",
    "funcoes_governo = ['gestao ambiental', 'saneamento','administracao']"
   ]
  },
  {
   "cell_type": "code",
   "execution_count": 63,
   "metadata": {},
   "outputs": [
    {
     "data": {
      "text/html": [
       "<div>\n",
       "<style scoped>\n",
       "    .dataframe tbody tr th:only-of-type {\n",
       "        vertical-align: middle;\n",
       "    }\n",
       "\n",
       "    .dataframe tbody tr th {\n",
       "        vertical-align: top;\n",
       "    }\n",
       "\n",
       "    .dataframe thead th {\n",
       "        text-align: right;\n",
       "    }\n",
       "</style>\n",
       "<table border=\"1\" class=\"dataframe\">\n",
       "  <thead>\n",
       "    <tr style=\"text-align: right;\">\n",
       "      <th></th>\n",
       "      <th>ano_exercicio</th>\n",
       "      <th>mes_ref_extenso</th>\n",
       "      <th>tp_despesa</th>\n",
       "      <th>vl_despesa</th>\n",
       "      <th>ds_funcao_governo</th>\n",
       "      <th>ds_subfuncao_governo</th>\n",
       "      <th>ds_programa</th>\n",
       "      <th>ds_acao</th>\n",
       "      <th>vl_despesa_per_capita</th>\n",
       "    </tr>\n",
       "  </thead>\n",
       "  <tbody>\n",
       "    <tr>\n",
       "      <th>2614</th>\n",
       "      <td>2018</td>\n",
       "      <td>janeiro</td>\n",
       "      <td>valor liquidado</td>\n",
       "      <td>20761.29</td>\n",
       "      <td>urbanismo</td>\n",
       "      <td>administracao geral</td>\n",
       "      <td>melhoria do transito e do transporte coletivo</td>\n",
       "      <td>gestao e modernizacao dos servicos de transpor...</td>\n",
       "      <td>0.015053</td>\n",
       "    </tr>\n",
       "    <tr>\n",
       "      <th>2615</th>\n",
       "      <td>2018</td>\n",
       "      <td>janeiro</td>\n",
       "      <td>valor liquidado</td>\n",
       "      <td>389859.89</td>\n",
       "      <td>saneamento</td>\n",
       "      <td>administracao geral</td>\n",
       "      <td>gestao administrativa operacional sob supervis...</td>\n",
       "      <td>obrigacoes contributivas diversas</td>\n",
       "      <td>0.282675</td>\n",
       "    </tr>\n",
       "    <tr>\n",
       "      <th>2616</th>\n",
       "      <td>2018</td>\n",
       "      <td>janeiro</td>\n",
       "      <td>valor liquidado</td>\n",
       "      <td>618.53</td>\n",
       "      <td>saneamento</td>\n",
       "      <td>administracao geral</td>\n",
       "      <td>gestao administrativa operacional sob supervis...</td>\n",
       "      <td>obrigacoes contributivas diversas</td>\n",
       "      <td>0.000448</td>\n",
       "    </tr>\n",
       "    <tr>\n",
       "      <th>2617</th>\n",
       "      <td>2018</td>\n",
       "      <td>janeiro</td>\n",
       "      <td>valor liquidado</td>\n",
       "      <td>954.00</td>\n",
       "      <td>encargos especiais</td>\n",
       "      <td>outros encargos especiais</td>\n",
       "      <td>encargos especiais</td>\n",
       "      <td>encargos, restituicoes e indenizacoes diversas</td>\n",
       "      <td>0.000692</td>\n",
       "    </tr>\n",
       "    <tr>\n",
       "      <th>2618</th>\n",
       "      <td>2018</td>\n",
       "      <td>janeiro</td>\n",
       "      <td>valor liquidado</td>\n",
       "      <td>12966.55</td>\n",
       "      <td>administracao</td>\n",
       "      <td>protecao e beneficios ao trabalhador</td>\n",
       "      <td>gestao administrativa operacional sob supervis...</td>\n",
       "      <td>beneficios ao trabalhador - encargos</td>\n",
       "      <td>0.009402</td>\n",
       "    </tr>\n",
       "  </tbody>\n",
       "</table>\n",
       "</div>"
      ],
      "text/plain": [
       "      ano_exercicio mes_ref_extenso       tp_despesa  vl_despesa  \\\n",
       "2614           2018         janeiro  valor liquidado    20761.29   \n",
       "2615           2018         janeiro  valor liquidado   389859.89   \n",
       "2616           2018         janeiro  valor liquidado      618.53   \n",
       "2617           2018         janeiro  valor liquidado      954.00   \n",
       "2618           2018         janeiro  valor liquidado    12966.55   \n",
       "\n",
       "       ds_funcao_governo                  ds_subfuncao_governo  \\\n",
       "2614           urbanismo                   administracao geral   \n",
       "2615          saneamento                   administracao geral   \n",
       "2616          saneamento                   administracao geral   \n",
       "2617  encargos especiais             outros encargos especiais   \n",
       "2618       administracao  protecao e beneficios ao trabalhador   \n",
       "\n",
       "                                            ds_programa  \\\n",
       "2614      melhoria do transito e do transporte coletivo   \n",
       "2615  gestao administrativa operacional sob supervis...   \n",
       "2616  gestao administrativa operacional sob supervis...   \n",
       "2617                                 encargos especiais   \n",
       "2618  gestao administrativa operacional sob supervis...   \n",
       "\n",
       "                                                ds_acao  vl_despesa_per_capita  \n",
       "2614  gestao e modernizacao dos servicos de transpor...               0.015053  \n",
       "2615                  obrigacoes contributivas diversas               0.282675  \n",
       "2616                  obrigacoes contributivas diversas               0.000448  \n",
       "2617     encargos, restituicoes e indenizacoes diversas               0.000692  \n",
       "2618               beneficios ao trabalhador - encargos               0.009402  "
      ]
     },
     "execution_count": 63,
     "metadata": {},
     "output_type": "execute_result"
    }
   ],
   "source": [
    "test_liq = test[test['tp_despesa'] == 'valor liquidado']\n",
    "test_liq.head()"
   ]
  },
  {
   "cell_type": "code",
   "execution_count": 64,
   "metadata": {
    "scrolled": false
   },
   "outputs": [],
   "source": [
    "test_liq_f_governo = test_liq[test_liq['ds_funcao_governo'] == funcoes_governo[0]]"
   ]
  },
  {
   "cell_type": "code",
   "execution_count": 65,
   "metadata": {},
   "outputs": [
    {
     "data": {
      "text/plain": [
       "['gestao administrativa operacional da secretaria de meio ambiente',\n",
       " 'manutencao e implantacao de parques, pracas, arborizacao, licenciamento e fiscalizacao ambiental',\n",
       " 'gestao e conservacao da biodiversidade e protecao aos animais',\n",
       " 'gestao do fundo municipal de meio ambiente']"
      ]
     },
     "execution_count": 65,
     "metadata": {},
     "output_type": "execute_result"
    }
   ],
   "source": [
    "list(test_liq_f_governo['ds_programa'].unique())"
   ]
  },
  {
   "cell_type": "code",
   "execution_count": null,
   "metadata": {},
   "outputs": [],
   "source": []
  }
 ],
 "metadata": {
  "kernelspec": {
   "display_name": "Python 3",
   "language": "python",
   "name": "python3"
  },
  "language_info": {
   "codemirror_mode": {
    "name": "ipython",
    "version": 3
   },
   "file_extension": ".py",
   "mimetype": "text/x-python",
   "name": "python",
   "nbconvert_exporter": "python",
   "pygments_lexer": "ipython3",
   "version": "3.7.3"
  }
 },
 "nbformat": 4,
 "nbformat_minor": 2
}
