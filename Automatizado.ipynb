{
 "cells": [
  {
   "cell_type": "code",
   "execution_count": 1,
   "metadata": {},
   "outputs": [],
   "source": [
    "import pandas as pd\n",
    "import seaborn as sns\n",
    "import matplotlib.pyplot as plt\n",
    "import numpy as np\n",
    "\n",
    "\n",
    "sns.set()\n",
    "%matplotlib inline"
   ]
  },
  {
   "cell_type": "code",
   "execution_count": 2,
   "metadata": {},
   "outputs": [],
   "source": [
    "import unidecode\n",
    "\n",
    "def normalizeSentence(sentence):\n",
    "    \n",
    "    temp = sentence.split(' ')\n",
    "    new_sentence = []\n",
    "    for word in temp:\n",
    "        new_sentence.append(normalizeWord(word))\n",
    "    new_sentence = ' '.join(new_sentence)\n",
    "    \n",
    "    return new_sentence\n",
    "\n",
    "def normalizeWord(word):\n",
    "    \n",
    "    # lower case word\n",
    "    word = word.lower()\n",
    "    \n",
    "    # remove accents\n",
    "    word = unidecode.unidecode(word)\n",
    "    \n",
    "    return word\n",
    "\n",
    "def joinSeparetedWord(word):\n",
    "    \n",
    "    # removing aspas\n",
    "    word = word.split('\\'')\n",
    "    word = ''.join(word)\n",
    "    \n",
    "    # separete words from word\n",
    "    word = word.split()\n",
    "    \n",
    "    # join separeted words by '-'\n",
    "    word = '-'.join(word)\n",
    "    \n",
    "    return word"
   ]
  },
  {
   "cell_type": "code",
   "execution_count": 3,
   "metadata": {},
   "outputs": [],
   "source": [
    "def selectByWord(word, sentences):\n",
    "    # select subset of sentences that contains word\n",
    "    # return indexs of sentences\n",
    "    \n",
    "    # normalize word\n",
    "    normalized_word = normalizeWord(word)\n",
    "    \n",
    "    indexs = []\n",
    "    \n",
    "    for i, sentence in enumerate(sentences):\n",
    "        # normalize sentence\n",
    "        normalized_sentence = normalizeSentence(sentence)\n",
    "        \n",
    "        if normalized_word in normalized_sentence:\n",
    "            #print(i, normalized_sentence)\n",
    "            indexs.append(i)\n",
    "    return indexs"
   ]
  },
  {
   "cell_type": "code",
   "execution_count": 4,
   "metadata": {},
   "outputs": [],
   "source": [
    "def selectDfRowsByWord(data, word, column):\n",
    "    '''\n",
    "    Select specific rows that contains especific word in the column\n",
    "    '''\n",
    "    \n",
    "    sentences = np.array(data[column].unique())\n",
    "\n",
    "    # find sentences\n",
    "    idxs = selectByWord(word, sentences)\n",
    "    obj_sentences = sentences[idxs]\n",
    "\n",
    "    servicos = pd.DataFrame()\n",
    "    for sentence in obj_sentences:\n",
    "\n",
    "        # select rows of exemplo\n",
    "        temp = data[data[column] == sentence]\n",
    "\n",
    "        # concatenate\n",
    "        servicos = pd.concat([servicos, temp])\n",
    "    try:\n",
    "        temp = len(servicos[column].unique())\n",
    "    except:\n",
    "        print(word + ': Not found')\n",
    "    \n",
    "    return servicos.copy()"
   ]
  },
  {
   "cell_type": "code",
   "execution_count": 85,
   "metadata": {},
   "outputs": [],
   "source": [
    "class Municipio:\n",
    "    '''\n",
    "    \n",
    "    Município\n",
    "    \n",
    "    '''\n",
    "    \n",
    "    def __init__(self, name, years = (2018, 2018)):\n",
    "        \n",
    "        self.keep_columns_ = ['ano_exercicio', 'mes_ref_extenso', 'tp_despesa', 'vl_despesa',\n",
    "                              'ds_funcao_governo', 'ds_subfuncao_governo', 'ds_programa', 'ds_acao']\n",
    "        self.numeric_columns_ = ['ano_exercicio', 'vl_despesa']\n",
    "        \n",
    "        self.years_ = np.arange(years[0], years[1]+1)\n",
    "        self.name_ = name\n",
    "        self.df_ = pd.DataFrame()\n",
    "        self.population_ = None\n",
    "        print('Reading data...')\n",
    "        self.readData()\n",
    "        print('Preparing data...')\n",
    "        self.prepareData()\n",
    "        print('\\nBase for {} is ready!!'.format(self.name_))\n",
    "        \n",
    "    def readData(self):\n",
    "        \n",
    "        print('> reading population...')\n",
    "        # reading population\n",
    "        \n",
    "        municipios_base = pd.read_csv('datasets/municipios.csv')\n",
    "        municipios = municipios_base['Município'].values\n",
    "        for i, municipio in enumerate(municipios):\n",
    "            if normalizeWord(self.name_) == normalizeWord(municipio):\n",
    "                self.population_ = municipios_base['Estimativa 2019'].values[i]\n",
    "        if self.population_ is None:\n",
    "            print('Erro: population not found')\n",
    "            return\n",
    "        \n",
    "        print('> reading despesas...')\n",
    "        # reading despesas\n",
    "        \n",
    "        for year in self.years_:\n",
    "            print('>> year: '+str(year))\n",
    "            try:\n",
    "                aux = open('datasets/despesas/'+ str(year) +'/despesas-' + self.name_ + '-'+str(year)+'.csv', 'r')\n",
    "                aux.close()\n",
    "                del aux\n",
    "            except:\n",
    "                downloadDespesas([self.name_], year, unzip=True)\n",
    "            temp = pd.read_csv('datasets/despesas/'+ str(year) +'/despesas-' + self.name_ + '-'+str(year)+'.csv', sep = ';',  encoding = \"ISO-8859-1\")\n",
    "            temp = temp[self.keep_columns_]\n",
    "            self.df_ = pd.concat([self.df_, temp]).reset_index(drop = True)\n",
    "        del temp\n",
    "        \n",
    "    def prepareData(self):\n",
    "        \n",
    "        # string para float\n",
    "        self.df_['vl_despesa'] = self.df_.vl_despesa.apply(lambda x : float('.'.join(x.split(','))))\n",
    "        \n",
    "        # normalizando nome dos meses\n",
    "        for column in self.df_.columns:\n",
    "            if column in self.numeric_columns_:\n",
    "                 continue\n",
    "            self.df_[column] = self.df_[column].apply(lambda x : normalizeWord(x))\n",
    "        \n",
    "        self.df_['vl_despesa_per_capita'] = self.df_['vl_despesa'].apply(lambda x : x/self.population_)\n",
    "        \n",
    "        # ajsutando nomes com . no meio\n",
    "        for column in ['ds_programa', 'ds_acao']:\n",
    "            self.df_[column] = self.df_[column].apply(lambda x : ''.join(x.split('.')))\n",
    "        "
   ]
  },
  {
   "cell_type": "code",
   "execution_count": 75,
   "metadata": {},
   "outputs": [],
   "source": [
    "from zipfile import ZipFile\n",
    "import urllib.request\n",
    "import progressbar\n",
    "import os\n",
    "\n",
    "def downloadDespesas(names, year, unzip = False):\n",
    "        \n",
    "    n = len(names)\n",
    "    erros = []\n",
    "    \n",
    "    # widgets for progressbar\n",
    "    widgets=[\n",
    "        ' [', progressbar.Timer(), '] ',\n",
    "        progressbar.Bar(),\n",
    "        ' (', progressbar.Counter(), '/'+str(n)+') ',\n",
    "    ]\n",
    "\n",
    "    for i in range(n):\n",
    "        name = names[i]\n",
    "\n",
    "        # uniformalizing word for match\n",
    "        name = normalizeWord(name)\n",
    "\n",
    "        # replacing ' ' to '-'\n",
    "        name = joinSeparetedWord(name)\n",
    "\n",
    "        # request download\n",
    "        url = 'https://transparencia.tce.sp.gov.br/sites/default/files/csv/despesas-' + name + '-' + str(year) + '.zip'\n",
    "        try:\n",
    "            zipName = 'downloads/' + name + '-' + str(year) + '.zip'\n",
    "            urllib.request.urlretrieve(url, zipName)\n",
    "            if unzip:\n",
    "                with ZipFile(zipName, 'r') as zipObj:\n",
    "                    zipObj.extractall('datasets/despesas/' + str(year))\n",
    "                try:\n",
    "                    os.rename('datasets/despesas/' + str(year) + '/despesas-' + name + '-' + str(year) + '.zip.csv', 'datasets/despesas/' + str(year) + '/despesas-' + name + '-' + str(year) + '.csv')\n",
    "                except:\n",
    "                    continue\n",
    "        except:\n",
    "            erros.append(name)\n",
    "        \n",
    "    if len(erros) == 0:\n",
    "        print('All files have been downloaded!')\n",
    "    else:\n",
    "        print('Files not found:')\n",
    "        print(erros)\n",
    "    "
   ]
  },
  {
   "cell_type": "code",
   "execution_count": 76,
   "metadata": {},
   "outputs": [],
   "source": [
    "municipios = pd.read_csv('datasets/municipios_no_sp.csv').set_index('Município')"
   ]
  },
  {
   "cell_type": "code",
   "execution_count": 81,
   "metadata": {},
   "outputs": [],
   "source": [
    "municipios_nomes = ['miracatu']"
   ]
  },
  {
   "cell_type": "code",
   "execution_count": 78,
   "metadata": {},
   "outputs": [],
   "source": [
    "sample = municipios.loc[municipios_nomes]"
   ]
  },
  {
   "cell_type": "code",
   "execution_count": 79,
   "metadata": {},
   "outputs": [
    {
     "data": {
      "text/html": [
       "<div>\n",
       "<style scoped>\n",
       "    .dataframe tbody tr th:only-of-type {\n",
       "        vertical-align: middle;\n",
       "    }\n",
       "\n",
       "    .dataframe tbody tr th {\n",
       "        vertical-align: top;\n",
       "    }\n",
       "\n",
       "    .dataframe thead th {\n",
       "        text-align: right;\n",
       "    }\n",
       "</style>\n",
       "<table border=\"1\" class=\"dataframe\">\n",
       "  <thead>\n",
       "    <tr style=\"text-align: right;\">\n",
       "      <th></th>\n",
       "      <th>Posição</th>\n",
       "      <th>Estimativa 2019</th>\n",
       "    </tr>\n",
       "    <tr>\n",
       "      <th>Município</th>\n",
       "      <th></th>\n",
       "      <th></th>\n",
       "    </tr>\n",
       "  </thead>\n",
       "  <tbody>\n",
       "    <tr>\n",
       "      <th>Miracatu</th>\n",
       "      <td>262</td>\n",
       "      <td>19779</td>\n",
       "    </tr>\n",
       "  </tbody>\n",
       "</table>\n",
       "</div>"
      ],
      "text/plain": [
       "           Posição  Estimativa 2019\n",
       "Município                          \n",
       "Miracatu       262            19779"
      ]
     },
     "execution_count": 79,
     "metadata": {},
     "output_type": "execute_result"
    }
   ],
   "source": [
    "sample"
   ]
  },
  {
   "cell_type": "code",
   "execution_count": 72,
   "metadata": {},
   "outputs": [
    {
     "name": "stdout",
     "output_type": "stream",
     "text": [
      "All files have been downloaded!\n"
     ]
    }
   ],
   "source": [
    "downloadDespesas(sample.index, unzip = True, year = 2016)"
   ]
  },
  {
   "cell_type": "code",
   "execution_count": 86,
   "metadata": {
    "scrolled": false
   },
   "outputs": [
    {
     "name": "stdout",
     "output_type": "stream",
     "text": [
      "Reading data...\n",
      "> reading population...\n",
      "> reading despesas...\n",
      ">> year: 2014\n",
      "All files have been downloaded!\n",
      ">> year: 2015\n",
      "All files have been downloaded!\n",
      ">> year: 2016\n",
      ">> year: 2017\n",
      "All files have been downloaded!\n",
      ">> year: 2018\n",
      "All files have been downloaded!\n",
      "Preparing data...\n",
      "\n",
      "Base for miracatu is ready!!\n"
     ]
    }
   ],
   "source": [
    "miracatu = Municipio('miracatu', years = (2014, 2018))"
   ]
  },
  {
   "cell_type": "code",
   "execution_count": null,
   "metadata": {},
   "outputs": [],
   "source": []
  }
 ],
 "metadata": {
  "kernelspec": {
   "display_name": "Python 3",
   "language": "python",
   "name": "python3"
  },
  "language_info": {
   "codemirror_mode": {
    "name": "ipython",
    "version": 3
   },
   "file_extension": ".py",
   "mimetype": "text/x-python",
   "name": "python",
   "nbconvert_exporter": "python",
   "pygments_lexer": "ipython3",
   "version": "3.7.3"
  }
 },
 "nbformat": 4,
 "nbformat_minor": 2
}
